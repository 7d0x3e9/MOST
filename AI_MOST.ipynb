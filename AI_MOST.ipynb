{
 "cells": [
  {
   "cell_type": "markdown",
   "metadata": {
    "id": "f66cqORvCFfH"
   },
   "source": [
    "뉴스 분류"
   ]
  },
  {
   "cell_type": "code",
   "execution_count": 571,
   "metadata": {
    "id": "LuZnwZuyCs61"
   },
   "outputs": [],
   "source": [
    "import pandas as pd\n",
    "import numpy as np\n",
    "import seaborn as sns\n",
    "import matplotlib.pyplot as plt"
   ]
  },
  {
   "cell_type": "code",
   "execution_count": 572,
   "metadata": {
    "id": "5gwKymaRC5PC"
   },
   "outputs": [],
   "source": [
    "# 시각화를 위한 폰트 설정\n",
    "import matplotlib.font_manager as fm\n",
    "\n",
    "\n",
    "def get_font_family():\n",
    "    \"\"\"\n",
    "    시스템 환경에 따른 기본 폰트명을 반환하는 함수\n",
    "    \"\"\"\n",
    "    import platform\n",
    "    system_name = platform.system()\n",
    "\n",
    "    if system_name == \"Darwin\":\n",
    "        font_family = \"AppleGothic\"\n",
    "    elif system_name == \"Windows\":\n",
    "        font_family = \"Malgun Gothic\"\n",
    "    else:\n",
    "        # Linux (Colab)\n",
    "        try:\n",
    "            font_path = \"/usr/share/fonts/truetype/nanum/NanumBarunGothic.ttf\"\n",
    "            fm.FontProperties(fname=font_path)\n",
    "            font_family = \"NanumBarunGothic\"\n",
    "        except FileNotFoundError:\n",
    "            # 설치되지 않은 경우 NanumGothic 폰트 사용\n",
    "            font_family = \"NanumGothic\"\n",
    "\n",
    "    return font_family\n",
    "\n",
    "# seaborn 스타일 설정\n",
    "sns.set_style(\"whitegrid\")\n",
    "\n",
    "# 폰트 설정\n",
    "plt.rc(\"font\", family=get_font_family())\n",
    "plt.rc(\"axes\", unicode_minus=False)\n",
    "\n",
    "%config InlineBackend.figure_format = 'retina'"
   ]
  },
  {
   "cell_type": "code",
   "execution_count": 573,
   "metadata": {
    "colab": {
     "base_uri": "https://localhost:8080/"
    },
    "id": "iHjx2YHrD7xG",
    "outputId": "c17819af-8e8b-46ff-c9e3-80710d2e23ed"
   },
   "outputs": [
    {
     "data": {
      "text/plain": [
       "((1049, 3), (292, 2))"
      ]
     },
     "execution_count": 573,
     "metadata": {},
     "output_type": "execute_result"
    }
   ],
   "source": [
    "train = pd.read_csv('C:/Users/selly/OneDrive/바탕 화면/전달해요/train.csv')\n",
    "test = pd.read_csv('C:/Users/selly/OneDrive/바탕 화면/전달해요/test.csv')\n",
    "train.shape, test.shape"
   ]
  },
  {
   "cell_type": "code",
   "execution_count": 574,
   "metadata": {
    "colab": {
     "base_uri": "https://localhost:8080/",
     "height": 175
    },
    "id": "imiiB8jvGEZF",
    "outputId": "5c47828d-b0bf-4966-9c88-efb57af1dcef"
   },
   "outputs": [
    {
     "data": {
      "text/html": [
       "<div>\n",
       "<style scoped>\n",
       "    .dataframe tbody tr th:only-of-type {\n",
       "        vertical-align: middle;\n",
       "    }\n",
       "\n",
       "    .dataframe tbody tr th {\n",
       "        vertical-align: top;\n",
       "    }\n",
       "\n",
       "    .dataframe thead th {\n",
       "        text-align: right;\n",
       "    }\n",
       "</style>\n",
       "<table border=\"1\" class=\"dataframe\">\n",
       "  <thead>\n",
       "    <tr style=\"text-align: right;\">\n",
       "      <th></th>\n",
       "      <th>topic</th>\n",
       "      <th>topic_idx</th>\n",
       "    </tr>\n",
       "  </thead>\n",
       "  <tbody>\n",
       "    <tr>\n",
       "      <th>0</th>\n",
       "      <td>목적</td>\n",
       "      <td>1</td>\n",
       "    </tr>\n",
       "    <tr>\n",
       "      <th>1</th>\n",
       "      <td>항목</td>\n",
       "      <td>2</td>\n",
       "    </tr>\n",
       "    <tr>\n",
       "      <th>2</th>\n",
       "      <td>기간</td>\n",
       "      <td>3</td>\n",
       "    </tr>\n",
       "    <tr>\n",
       "      <th>3</th>\n",
       "      <td>불이익</td>\n",
       "      <td>4</td>\n",
       "    </tr>\n",
       "  </tbody>\n",
       "</table>\n",
       "</div>"
      ],
      "text/plain": [
       "  topic  topic_idx\n",
       "0    목적          1\n",
       "1    항목          2\n",
       "2    기간          3\n",
       "3   불이익          4"
      ]
     },
     "execution_count": 574,
     "metadata": {},
     "output_type": "execute_result"
    }
   ],
   "source": [
    "topic = pd.read_csv('C:/Users/selly/OneDrive/바탕 화면/전달해요/topic_dict.csv')\n",
    "topic"
   ]
  },
  {
   "cell_type": "code",
   "execution_count": 575,
   "metadata": {
    "colab": {
     "base_uri": "https://localhost:8080/"
    },
    "id": "MrqwPN3cHHud",
    "outputId": "95f6bdd4-2906-471b-f999-ca7d53466a96"
   },
   "outputs": [
    {
     "data": {
      "text/plain": [
       "(1341, 3)"
      ]
     },
     "execution_count": 575,
     "metadata": {},
     "output_type": "execute_result"
    }
   ],
   "source": [
    "raw = pd.concat([train,test])\n",
    "raw.shape"
   ]
  },
  {
   "cell_type": "code",
   "execution_count": 576,
   "metadata": {
    "colab": {
     "base_uri": "https://localhost:8080/",
     "height": 206
    },
    "id": "E0N1In9uHPeh",
    "outputId": "032126cc-fb0e-4ab6-966f-ea1008c544cc"
   },
   "outputs": [
    {
     "data": {
      "text/html": [
       "<div>\n",
       "<style scoped>\n",
       "    .dataframe tbody tr th:only-of-type {\n",
       "        vertical-align: middle;\n",
       "    }\n",
       "\n",
       "    .dataframe tbody tr th {\n",
       "        vertical-align: top;\n",
       "    }\n",
       "\n",
       "    .dataframe thead th {\n",
       "        text-align: right;\n",
       "    }\n",
       "</style>\n",
       "<table border=\"1\" class=\"dataframe\">\n",
       "  <thead>\n",
       "    <tr style=\"text-align: right;\">\n",
       "      <th></th>\n",
       "      <th>index</th>\n",
       "      <th>title</th>\n",
       "      <th>topic_idx</th>\n",
       "    </tr>\n",
       "  </thead>\n",
       "  <tbody>\n",
       "    <tr>\n",
       "      <th>0</th>\n",
       "      <td>1</td>\n",
       "      <td>수집,이용 목적  입사를 위한 채용자격 요건 확인, 인사관리 및 내부감사, 복리후생</td>\n",
       "      <td>1.0</td>\n",
       "    </tr>\n",
       "    <tr>\n",
       "      <th>1</th>\n",
       "      <td>2</td>\n",
       "      <td>여행 예약 및 서비스 제공</td>\n",
       "      <td>1.0</td>\n",
       "    </tr>\n",
       "    <tr>\n",
       "      <th>2</th>\n",
       "      <td>3</td>\n",
       "      <td>소속 기관(학교 명)성명, 휴대전화번호, 이메일, 생년월일, 보호자 성명, 보호자</td>\n",
       "      <td>2.0</td>\n",
       "    </tr>\n",
       "    <tr>\n",
       "      <th>3</th>\n",
       "      <td>4</td>\n",
       "      <td>수집,이용 목적  학생의 건강상태 파악 및 응급처치를 위함</td>\n",
       "      <td>1.0</td>\n",
       "    </tr>\n",
       "    <tr>\n",
       "      <th>4</th>\n",
       "      <td>5</td>\n",
       "      <td>스팸 메시지 차단</td>\n",
       "      <td>1.0</td>\n",
       "    </tr>\n",
       "  </tbody>\n",
       "</table>\n",
       "</div>"
      ],
      "text/plain": [
       "   index                                           title  topic_idx\n",
       "0      1  수집,이용 목적  입사를 위한 채용자격 요건 확인, 인사관리 및 내부감사, 복리후생        1.0\n",
       "1      2                                  여행 예약 및 서비스 제공        1.0\n",
       "2      3   소속 기관(학교 명)성명, 휴대전화번호, 이메일, 생년월일, 보호자 성명, 보호자        2.0\n",
       "3      4                수집,이용 목적  학생의 건강상태 파악 및 응급처치를 위함        1.0\n",
       "4      5                                       스팸 메시지 차단        1.0"
      ]
     },
     "execution_count": 576,
     "metadata": {},
     "output_type": "execute_result"
    }
   ],
   "source": [
    "raw.head()"
   ]
  },
  {
   "cell_type": "code",
   "execution_count": 577,
   "metadata": {
    "colab": {
     "base_uri": "https://localhost:8080/",
     "height": 206
    },
    "id": "MB6UTgJzHVGM",
    "outputId": "0c2ab03f-0b9b-4dbd-b75a-128c29906efe"
   },
   "outputs": [
    {
     "data": {
      "text/html": [
       "<div>\n",
       "<style scoped>\n",
       "    .dataframe tbody tr th:only-of-type {\n",
       "        vertical-align: middle;\n",
       "    }\n",
       "\n",
       "    .dataframe tbody tr th {\n",
       "        vertical-align: top;\n",
       "    }\n",
       "\n",
       "    .dataframe thead th {\n",
       "        text-align: right;\n",
       "    }\n",
       "</style>\n",
       "<table border=\"1\" class=\"dataframe\">\n",
       "  <thead>\n",
       "    <tr style=\"text-align: right;\">\n",
       "      <th></th>\n",
       "      <th>index</th>\n",
       "      <th>title</th>\n",
       "      <th>topic_idx</th>\n",
       "    </tr>\n",
       "  </thead>\n",
       "  <tbody>\n",
       "    <tr>\n",
       "      <th>287</th>\n",
       "      <td>1337</td>\n",
       "      <td>박후린 교수님 왜 이걸 말을 안해주셨어요</td>\n",
       "      <td>NaN</td>\n",
       "    </tr>\n",
       "    <tr>\n",
       "      <th>288</th>\n",
       "      <td>1338</td>\n",
       "      <td>지원자와의 의사소통 및 정보 전달 등에 이용</td>\n",
       "      <td>NaN</td>\n",
       "    </tr>\n",
       "    <tr>\n",
       "      <th>289</th>\n",
       "      <td>1339</td>\n",
       "      <td>연구자등록번호, 인적사항, 학력, 경력, 연구업적 등</td>\n",
       "      <td>NaN</td>\n",
       "    </tr>\n",
       "    <tr>\n",
       "      <th>290</th>\n",
       "      <td>1340</td>\n",
       "      <td>눈이 귀찮아보여 이제 친구들이 모이네</td>\n",
       "      <td>NaN</td>\n",
       "    </tr>\n",
       "    <tr>\n",
       "      <th>291</th>\n",
       "      <td>1341</td>\n",
       "      <td>멍청하지만 그래도 착해요</td>\n",
       "      <td>NaN</td>\n",
       "    </tr>\n",
       "  </tbody>\n",
       "</table>\n",
       "</div>"
      ],
      "text/plain": [
       "     index                          title  topic_idx\n",
       "287   1337         박후린 교수님 왜 이걸 말을 안해주셨어요        NaN\n",
       "288   1338       지원자와의 의사소통 및 정보 전달 등에 이용        NaN\n",
       "289   1339  연구자등록번호, 인적사항, 학력, 경력, 연구업적 등        NaN\n",
       "290   1340           눈이 귀찮아보여 이제 친구들이 모이네        NaN\n",
       "291   1341                  멍청하지만 그래도 착해요        NaN"
      ]
     },
     "execution_count": 577,
     "metadata": {},
     "output_type": "execute_result"
    }
   ],
   "source": [
    "raw.tail()"
   ]
  },
  {
   "cell_type": "code",
   "execution_count": 578,
   "metadata": {
    "colab": {
     "base_uri": "https://localhost:8080/"
    },
    "id": "KztIeoUtHcAa",
    "outputId": "5f02ae85-5b7c-40d9-d0b5-64193e4a2173"
   },
   "outputs": [
    {
     "data": {
      "text/plain": [
       "(1341, 4)"
      ]
     },
     "execution_count": 578,
     "metadata": {},
     "output_type": "execute_result"
    }
   ],
   "source": [
    "df=raw.merge(topic, how=\"left\")\n",
    "df.shape"
   ]
  },
  {
   "cell_type": "code",
   "execution_count": 579,
   "metadata": {
    "colab": {
     "base_uri": "https://localhost:8080/",
     "height": 206
    },
    "id": "U9oriqWYHkHY",
    "outputId": "8b40795a-40da-4942-80c0-45c9e482b202"
   },
   "outputs": [
    {
     "data": {
      "text/html": [
       "<div>\n",
       "<style scoped>\n",
       "    .dataframe tbody tr th:only-of-type {\n",
       "        vertical-align: middle;\n",
       "    }\n",
       "\n",
       "    .dataframe tbody tr th {\n",
       "        vertical-align: top;\n",
       "    }\n",
       "\n",
       "    .dataframe thead th {\n",
       "        text-align: right;\n",
       "    }\n",
       "</style>\n",
       "<table border=\"1\" class=\"dataframe\">\n",
       "  <thead>\n",
       "    <tr style=\"text-align: right;\">\n",
       "      <th></th>\n",
       "      <th>index</th>\n",
       "      <th>title</th>\n",
       "      <th>topic_idx</th>\n",
       "      <th>topic</th>\n",
       "    </tr>\n",
       "  </thead>\n",
       "  <tbody>\n",
       "    <tr>\n",
       "      <th>0</th>\n",
       "      <td>1</td>\n",
       "      <td>수집,이용 목적  입사를 위한 채용자격 요건 확인, 인사관리 및 내부감사, 복리후생</td>\n",
       "      <td>1.0</td>\n",
       "      <td>목적</td>\n",
       "    </tr>\n",
       "    <tr>\n",
       "      <th>1</th>\n",
       "      <td>2</td>\n",
       "      <td>여행 예약 및 서비스 제공</td>\n",
       "      <td>1.0</td>\n",
       "      <td>목적</td>\n",
       "    </tr>\n",
       "    <tr>\n",
       "      <th>2</th>\n",
       "      <td>3</td>\n",
       "      <td>소속 기관(학교 명)성명, 휴대전화번호, 이메일, 생년월일, 보호자 성명, 보호자</td>\n",
       "      <td>2.0</td>\n",
       "      <td>항목</td>\n",
       "    </tr>\n",
       "    <tr>\n",
       "      <th>3</th>\n",
       "      <td>4</td>\n",
       "      <td>수집,이용 목적  학생의 건강상태 파악 및 응급처치를 위함</td>\n",
       "      <td>1.0</td>\n",
       "      <td>목적</td>\n",
       "    </tr>\n",
       "    <tr>\n",
       "      <th>4</th>\n",
       "      <td>5</td>\n",
       "      <td>스팸 메시지 차단</td>\n",
       "      <td>1.0</td>\n",
       "      <td>목적</td>\n",
       "    </tr>\n",
       "  </tbody>\n",
       "</table>\n",
       "</div>"
      ],
      "text/plain": [
       "   index                                           title  topic_idx topic\n",
       "0      1  수집,이용 목적  입사를 위한 채용자격 요건 확인, 인사관리 및 내부감사, 복리후생        1.0    목적\n",
       "1      2                                  여행 예약 및 서비스 제공        1.0    목적\n",
       "2      3   소속 기관(학교 명)성명, 휴대전화번호, 이메일, 생년월일, 보호자 성명, 보호자        2.0    항목\n",
       "3      4                수집,이용 목적  학생의 건강상태 파악 및 응급처치를 위함        1.0    목적\n",
       "4      5                                       스팸 메시지 차단        1.0    목적"
      ]
     },
     "execution_count": 579,
     "metadata": {},
     "output_type": "execute_result"
    }
   ],
   "source": [
    "df.head()"
   ]
  },
  {
   "cell_type": "code",
   "execution_count": 580,
   "metadata": {
    "colab": {
     "base_uri": "https://localhost:8080/"
    },
    "id": "Z-IlfAwFHnbG",
    "outputId": "8ebd8f05-e658-41cb-8ae6-1fb47fdf6935"
   },
   "outputs": [
    {
     "data": {
      "text/plain": [
       "1.0    533\n",
       "3.0    243\n",
       "2.0    147\n",
       "4.0    126\n",
       "Name: topic_idx, dtype: int64"
      ]
     },
     "execution_count": 580,
     "metadata": {},
     "output_type": "execute_result"
    }
   ],
   "source": [
    "df[\"topic_idx\"].value_counts()"
   ]
  },
  {
   "cell_type": "code",
   "execution_count": 581,
   "metadata": {
    "colab": {
     "base_uri": "https://localhost:8080/",
     "height": 1000
    },
    "id": "XqAepjmnHyZs",
    "outputId": "748477d8-1cc8-4065-bef8-9094b6e07177"
   },
   "outputs": [
    {
     "data": {
      "text/plain": [
       "<Axes: xlabel='count', ylabel='topic'>"
      ]
     },
     "execution_count": 581,
     "metadata": {},
     "output_type": "execute_result"
    },
    {
     "data": {
      "image/png": "[encoded data removed]",
      "text/plain": [
       "<Figure size 640x480 with 1 Axes>"
      ]
     },
     "metadata": {
      "image/png": {
       "height": 433,
       "width": 587
      }
     },
     "output_type": "display_data"
    }
   ],
   "source": [
    "sns.countplot(data=df, y=\"topic\")"
   ]
  },
  {
   "cell_type": "code",
   "execution_count": 582,
   "metadata": {
    "id": "KFnyuiIoH9V0"
   },
   "outputs": [],
   "source": [
    "df[\"len\"] = df[\"title\"].apply(lambda x:len(x))\n",
    "df[\"word_count\"] = df[\"title\"].apply(lambda x:len(x.split()))\n",
    "df[\"unique_word_count\"] = df[\"title\"].apply(lambda x : len(set(x.split())))"
   ]
  },
  {
   "cell_type": "code",
   "execution_count": 583,
   "metadata": {
    "colab": {
     "base_uri": "https://localhost:8080/",
     "height": 206
    },
    "id": "4ZuMOAzsIsxp",
    "outputId": "f00d86b2-b7ff-451d-bbaa-9b923d86478e"
   },
   "outputs": [
    {
     "data": {
      "text/html": [
       "<div>\n",
       "<style scoped>\n",
       "    .dataframe tbody tr th:only-of-type {\n",
       "        vertical-align: middle;\n",
       "    }\n",
       "\n",
       "    .dataframe tbody tr th {\n",
       "        vertical-align: top;\n",
       "    }\n",
       "\n",
       "    .dataframe thead th {\n",
       "        text-align: right;\n",
       "    }\n",
       "</style>\n",
       "<table border=\"1\" class=\"dataframe\">\n",
       "  <thead>\n",
       "    <tr style=\"text-align: right;\">\n",
       "      <th></th>\n",
       "      <th>index</th>\n",
       "      <th>title</th>\n",
       "      <th>topic_idx</th>\n",
       "      <th>topic</th>\n",
       "      <th>len</th>\n",
       "      <th>word_count</th>\n",
       "      <th>unique_word_count</th>\n",
       "    </tr>\n",
       "  </thead>\n",
       "  <tbody>\n",
       "    <tr>\n",
       "      <th>0</th>\n",
       "      <td>1</td>\n",
       "      <td>수집,이용 목적  입사를 위한 채용자격 요건 확인, 인사관리 및 내부감사, 복리후생</td>\n",
       "      <td>1.0</td>\n",
       "      <td>목적</td>\n",
       "      <td>46</td>\n",
       "      <td>11</td>\n",
       "      <td>11</td>\n",
       "    </tr>\n",
       "    <tr>\n",
       "      <th>1</th>\n",
       "      <td>2</td>\n",
       "      <td>여행 예약 및 서비스 제공</td>\n",
       "      <td>1.0</td>\n",
       "      <td>목적</td>\n",
       "      <td>14</td>\n",
       "      <td>5</td>\n",
       "      <td>5</td>\n",
       "    </tr>\n",
       "    <tr>\n",
       "      <th>2</th>\n",
       "      <td>3</td>\n",
       "      <td>소속 기관(학교 명)성명, 휴대전화번호, 이메일, 생년월일, 보호자 성명, 보호자</td>\n",
       "      <td>2.0</td>\n",
       "      <td>항목</td>\n",
       "      <td>45</td>\n",
       "      <td>9</td>\n",
       "      <td>8</td>\n",
       "    </tr>\n",
       "    <tr>\n",
       "      <th>3</th>\n",
       "      <td>4</td>\n",
       "      <td>수집,이용 목적  학생의 건강상태 파악 및 응급처치를 위함</td>\n",
       "      <td>1.0</td>\n",
       "      <td>목적</td>\n",
       "      <td>32</td>\n",
       "      <td>8</td>\n",
       "      <td>8</td>\n",
       "    </tr>\n",
       "    <tr>\n",
       "      <th>4</th>\n",
       "      <td>5</td>\n",
       "      <td>스팸 메시지 차단</td>\n",
       "      <td>1.0</td>\n",
       "      <td>목적</td>\n",
       "      <td>9</td>\n",
       "      <td>3</td>\n",
       "      <td>3</td>\n",
       "    </tr>\n",
       "  </tbody>\n",
       "</table>\n",
       "</div>"
      ],
      "text/plain": [
       "   index                                           title  topic_idx topic  \\\n",
       "0      1  수집,이용 목적  입사를 위한 채용자격 요건 확인, 인사관리 및 내부감사, 복리후생        1.0    목적   \n",
       "1      2                                  여행 예약 및 서비스 제공        1.0    목적   \n",
       "2      3   소속 기관(학교 명)성명, 휴대전화번호, 이메일, 생년월일, 보호자 성명, 보호자        2.0    항목   \n",
       "3      4                수집,이용 목적  학생의 건강상태 파악 및 응급처치를 위함        1.0    목적   \n",
       "4      5                                       스팸 메시지 차단        1.0    목적   \n",
       "\n",
       "   len  word_count  unique_word_count  \n",
       "0   46          11                 11  \n",
       "1   14           5                  5  \n",
       "2   45           9                  8  \n",
       "3   32           8                  8  \n",
       "4    9           3                  3  "
      ]
     },
     "execution_count": 583,
     "metadata": {},
     "output_type": "execute_result"
    }
   ],
   "source": [
    "df.head()"
   ]
  },
  {
   "cell_type": "code",
   "execution_count": 584,
   "metadata": {
    "colab": {
     "base_uri": "https://localhost:8080/",
     "height": 230
    },
    "id": "Al-4SgMKJGUx",
    "outputId": "7a80fdc3-d269-44b3-9708-f2fe62e6859f"
   },
   "outputs": [
    {
     "data": {
      "text/plain": [
       "<Axes: xlabel='unique_word_count', ylabel='Count'>"
      ]
     },
     "execution_count": 584,
     "metadata": {},
     "output_type": "execute_result"
    },
    {
     "data": {
      "image/png": "[encoded data removed]",
      "text/plain": [
       "<Figure size 1500x200 with 3 Axes>"
      ]
     },
     "metadata": {
      "image/png": {
       "height": 218,
       "width": 1235
      }
     },
     "output_type": "display_data"
    }
   ],
   "source": [
    "fig, axes = plt.subplots(1,3,figsize=(15,2))\n",
    "sns.histplot(df[\"len\"], ax=axes[0])\n",
    "sns.histplot(df[\"word_count\"],ax=axes[1] )\n",
    "sns.histplot(df[\"unique_word_count\"], ax=axes[2])"
   ]
  },
  {
   "cell_type": "code",
   "execution_count": 585,
   "metadata": {
    "colab": {
     "base_uri": "https://localhost:8080/",
     "height": 300
    },
    "id": "XhLZAaZm_yuH",
    "outputId": "d45824bd-ee95-4865-d434-6b80cf64ad58"
   },
   "outputs": [
    {
     "data": {
      "text/html": [
       "<div>\n",
       "<style scoped>\n",
       "    .dataframe tbody tr th:only-of-type {\n",
       "        vertical-align: middle;\n",
       "    }\n",
       "\n",
       "    .dataframe tbody tr th {\n",
       "        vertical-align: top;\n",
       "    }\n",
       "\n",
       "    .dataframe thead th {\n",
       "        text-align: right;\n",
       "    }\n",
       "</style>\n",
       "<table border=\"1\" class=\"dataframe\">\n",
       "  <thead>\n",
       "    <tr style=\"text-align: right;\">\n",
       "      <th></th>\n",
       "      <th>len</th>\n",
       "      <th>word_count</th>\n",
       "      <th>unique_word_count</th>\n",
       "    </tr>\n",
       "  </thead>\n",
       "  <tbody>\n",
       "    <tr>\n",
       "      <th>count</th>\n",
       "      <td>1341.000000</td>\n",
       "      <td>1341.000000</td>\n",
       "      <td>1341.000000</td>\n",
       "    </tr>\n",
       "    <tr>\n",
       "      <th>mean</th>\n",
       "      <td>33.897092</td>\n",
       "      <td>8.744966</td>\n",
       "      <td>8.421327</td>\n",
       "    </tr>\n",
       "    <tr>\n",
       "      <th>std</th>\n",
       "      <td>26.458413</td>\n",
       "      <td>6.244088</td>\n",
       "      <td>5.729796</td>\n",
       "    </tr>\n",
       "    <tr>\n",
       "      <th>min</th>\n",
       "      <td>2.000000</td>\n",
       "      <td>1.000000</td>\n",
       "      <td>1.000000</td>\n",
       "    </tr>\n",
       "    <tr>\n",
       "      <th>25%</th>\n",
       "      <td>15.000000</td>\n",
       "      <td>4.000000</td>\n",
       "      <td>4.000000</td>\n",
       "    </tr>\n",
       "    <tr>\n",
       "      <th>50%</th>\n",
       "      <td>26.000000</td>\n",
       "      <td>7.000000</td>\n",
       "      <td>7.000000</td>\n",
       "    </tr>\n",
       "    <tr>\n",
       "      <th>75%</th>\n",
       "      <td>47.000000</td>\n",
       "      <td>12.000000</td>\n",
       "      <td>11.000000</td>\n",
       "    </tr>\n",
       "    <tr>\n",
       "      <th>max</th>\n",
       "      <td>323.000000</td>\n",
       "      <td>70.000000</td>\n",
       "      <td>66.000000</td>\n",
       "    </tr>\n",
       "  </tbody>\n",
       "</table>\n",
       "</div>"
      ],
      "text/plain": [
       "               len   word_count  unique_word_count\n",
       "count  1341.000000  1341.000000        1341.000000\n",
       "mean     33.897092     8.744966           8.421327\n",
       "std      26.458413     6.244088           5.729796\n",
       "min       2.000000     1.000000           1.000000\n",
       "25%      15.000000     4.000000           4.000000\n",
       "50%      26.000000     7.000000           7.000000\n",
       "75%      47.000000    12.000000          11.000000\n",
       "max     323.000000    70.000000          66.000000"
      ]
     },
     "execution_count": 585,
     "metadata": {},
     "output_type": "execute_result"
    }
   ],
   "source": [
    "df[[\"len\",\"word_count\",\"unique_word_count\"]].describe()"
   ]
  },
  {
   "cell_type": "markdown",
   "metadata": {
    "id": "kIE86-b7_-MX"
   },
   "source": [
    "5. 주제별 글자와 단어의 빈도 확인"
   ]
  },
  {
   "cell_type": "code",
   "execution_count": 586,
   "metadata": {
    "colab": {
     "base_uri": "https://localhost:8080/",
     "height": 1000
    },
    "id": "deP8pti6-Rze",
    "outputId": "3122d079-0cb6-4790-a020-991c65598d74"
   },
   "outputs": [
    {
     "data": {
      "text/plain": [
       "<seaborn.axisgrid.FacetGrid at 0x15b0e469ea0>"
      ]
     },
     "execution_count": 586,
     "metadata": {},
     "output_type": "execute_result"
    },
    {
     "data": {
      "image/png": "[encoded data removed]",
      "text/plain": [
       "<Figure size 2091.62x400 with 4 Axes>"
      ]
     },
     "metadata": {
      "image/png": {
       "height": 393,
       "width": 2091
      }
     },
     "output_type": "display_data"
    }
   ],
   "source": [
    "sns.displot(data=df, x=\"len\", hue=\"topic\",col=\"topic\", col_wrap=2, aspect=5, height=2)"
   ]
  },
  {
   "cell_type": "markdown",
   "metadata": {
    "id": "ixK5VEZEAY4K"
   },
   "source": [
    "6. 문자 전처리하기"
   ]
  },
  {
   "cell_type": "code",
   "execution_count": 587,
   "metadata": {
    "colab": {
     "base_uri": "https://localhost:8080/"
    },
    "id": "KG0aR9GUAchG",
    "outputId": "4b02e15c-3b54-400c-c90b-942a2d9a87ba"
   },
   "outputs": [
    {
     "name": "stdout",
     "output_type": "stream",
     "text": [
      "Requirement already satisfied: konlpy in c:\\users\\selly\\anaconda3\\lib\\site-packages (0.6.0)\n",
      "Requirement already satisfied: numpy>=1.6 in c:\\users\\selly\\anaconda3\\lib\\site-packages (from konlpy) (1.23.5)\n",
      "Requirement already satisfied: lxml>=4.1.0 in c:\\users\\selly\\anaconda3\\lib\\site-packages (from konlpy) (4.9.1)\n",
      "Requirement already satisfied: JPype1>=0.7.0 in c:\\users\\selly\\anaconda3\\lib\\site-packages (from konlpy) (1.4.1)\n",
      "Requirement already satisfied: packaging in c:\\users\\selly\\anaconda3\\lib\\site-packages (from JPype1>=0.7.0->konlpy) (22.0)\n"
     ]
    },
    {
     "name": "stderr",
     "output_type": "stream",
     "text": [
      "100%|█████████████████████████████████████████████████████████████████████████████| 1049/1049 [00:02<00:00, 363.49it/s]\n",
      "100%|███████████████████████████████████████████████████████████████████████████████| 292/292 [00:00<00:00, 382.36it/s]\n"
     ]
    }
   ],
   "source": [
    "!pip install konlpy --upgrade\n",
    "from konlpy.tag import Okt\n",
    "okt = Okt()\n",
    "\n",
    "def okt_clean(text):\n",
    "  clean_text = []\n",
    "  for word in okt.pos(text, stem=True):\n",
    "    if word[1] not in ['Josa', 'Eomi','Punctuation' ]:\n",
    "      clean_text.append(word[0])\n",
    "\n",
    "  return \" \".join(clean_text)\n",
    "\n",
    "from tqdm import tqdm\n",
    "tqdm.pandas()\n",
    "\n",
    "train['title'] = train['title'].progress_map(okt_clean)\n",
    "test['title'] = test['title'].progress_map(okt_clean)"
   ]
  },
  {
   "cell_type": "code",
   "execution_count": 588,
   "metadata": {
    "id": "noNfxQd-BzQ0"
   },
   "outputs": [],
   "source": [
    "def remove_stopwords(text):\n",
    "  tokens = text.split(' ')\n",
    "  stops = ['합니다','하는','할','하고','한다', '그리고', '입니다', '그','등','이런','것','및','제','더','있습니다.','관련','대한','?']\n",
    "  meaningful_words = [w for w in tokens if not w in stops]\n",
    "  return ' '.join(meaningful_words)"
   ]
  },
  {
   "cell_type": "code",
   "execution_count": 589,
   "metadata": {
    "id": "3-A7egrTDaP9"
   },
   "outputs": [],
   "source": [
    "df[\"title\"] = df[\"title\"].map(remove_stopwords)"
   ]
  },
  {
   "cell_type": "code",
   "execution_count": 590,
   "metadata": {
    "id": "RYpI7Nw9Dj8a"
   },
   "outputs": [],
   "source": [
    "import re\n",
    "def preprocessing(text):\n",
    "    # 개행문자 제거\n",
    "    text = re.sub('\\\\\\\\n', ' ', text)\n",
    "    # 특수문자 제거\n",
    "    # 특수문자나 이모티콘 등은 때로는 의미를 갖기도 하지만 여기에서는 제거했습니다.\n",
    "    # text = re.sub('[?.,;:|\\)*~`’!^\\-_+<>@\\#$%&-=#}※]', '', text)\n",
    "    # 한글, 영문, 숫자만 남기고 모두 제거하도록 합니다.\n",
    "    #text = re.sub('[^가-힣ㄱ-ㅎㅏ-ㅣa-zA-Z0-9]', ' ', text)\n",
    "    # 한글, 영문만 남기고 모두 제거하도록 합니다.\n",
    "    text = re.sub('[^가-힣ㄱ-ㅎㅏ-ㅣa-zA-Z]', ' ', text)\n",
    "    # 중복으로 생성된 공백값을 제거합니다.\n",
    "    text = re.sub('[\\s]+', ' ', text)\n",
    "    # 영문자를 소문자로 만듭니다.\n",
    "    text = text.lower()\n",
    "    return text\n",
    "#def preprocessing(text):\n",
    "    # NaN 값 처리\n",
    "    #if pd.isnull(text):\n",
    "        #return ''\n",
    "\n",
    "    # 개행문자 제거\n",
    "    text = re.sub('\\\\\\\\n', ' ', text)\n",
    "    # 나머지 전처리 작업 계속 진행\n",
    "    # ...\n",
    "\n",
    "    return text"
   ]
  },
  {
   "cell_type": "code",
   "execution_count": 591,
   "metadata": {
    "id": "kfQN64rVD1T0"
   },
   "outputs": [],
   "source": [
    "df[\"title\"] = df[\"title\"].map(preprocessing)"
   ]
  },
  {
   "cell_type": "markdown",
   "metadata": {
    "id": "MzZQmpDzEARw"
   },
   "source": [
    "7. 학습, 시험 데이터 세트 분리하기"
   ]
  },
  {
   "cell_type": "code",
   "execution_count": 592,
   "metadata": {
    "id": "jyq1cVIuD6eg"
   },
   "outputs": [],
   "source": [
    "label_name = \"topic_idx\""
   ]
  },
  {
   "cell_type": "code",
   "execution_count": 593,
   "metadata": {
    "colab": {
     "base_uri": "https://localhost:8080/"
    },
    "id": "bQRmEe3MEAEm",
    "outputId": "d747b26d-7fdc-44d6-ffc2-23b2c0eb4fd7"
   },
   "outputs": [
    {
     "data": {
      "text/plain": [
       "((1049, 7), (292, 7))"
      ]
     },
     "execution_count": 593,
     "metadata": {},
     "output_type": "execute_result"
    }
   ],
   "source": [
    "train = df[df[label_name].notnull()]\n",
    "test = df[df[label_name].isnull()]\n",
    "train.shape, test.shape"
   ]
  },
  {
   "cell_type": "code",
   "execution_count": 594,
   "metadata": {
    "colab": {
     "base_uri": "https://localhost:8080/"
    },
    "id": "vyiwu5OhEYct",
    "outputId": "24592804-8e49-48ed-c54e-fe1079a6b0f7"
   },
   "outputs": [
    {
     "data": {
      "text/plain": [
       "((1049,), (292,))"
      ]
     },
     "execution_count": 594,
     "metadata": {},
     "output_type": "execute_result"
    }
   ],
   "source": [
    "X_train = train[\"title\"]\n",
    "X_test = test[\"title\"]\n",
    "\n",
    "X_train.shape, X_test.shape"
   ]
  },
  {
   "cell_type": "code",
   "execution_count": 595,
   "metadata": {
    "colab": {
     "base_uri": "https://localhost:8080/"
    },
    "id": "7035nfUfEklT",
    "outputId": "8fc6bc48-b409-4b00-81d3-26396d9a5925"
   },
   "outputs": [
    {
     "data": {
      "text/plain": [
       "1.0    533\n",
       "3.0    243\n",
       "2.0    147\n",
       "4.0    126\n",
       "Name: topic_idx, dtype: int64"
      ]
     },
     "execution_count": 595,
     "metadata": {},
     "output_type": "execute_result"
    }
   ],
   "source": [
    "y_train = train[label_name]\n",
    "y_train.value_counts()"
   ]
  },
  {
   "cell_type": "code",
   "execution_count": 596,
   "metadata": {
    "colab": {
     "base_uri": "https://localhost:8080/"
    },
    "id": "n623KTSgEsFW",
    "outputId": "86899f4b-5a4c-4aba-c818-51d299642ae6"
   },
   "outputs": [
    {
     "data": {
      "text/plain": [
       "Series([], Name: topic_idx, dtype: int64)"
      ]
     },
     "execution_count": 596,
     "metadata": {},
     "output_type": "execute_result"
    }
   ],
   "source": [
    "y_test = test[label_name]\n",
    "y_test.value_counts()"
   ]
  },
  {
   "cell_type": "code",
   "execution_count": 597,
   "metadata": {
    "colab": {
     "base_uri": "https://localhost:8080/",
     "height": 74
    },
    "id": "rsWlYKRrEzYA",
    "outputId": "d40dfd67-3816-44e7-d182-4016f2e058fd"
   },
   "outputs": [
    {
     "data": {
      "text/html": [
       "<style>#sk-container-id-43 {color: black;background-color: white;}#sk-container-id-43 pre{padding: 0;}#sk-container-id-43 div.sk-toggleable {background-color: white;}#sk-container-id-43 label.sk-toggleable__label {cursor: pointer;display: block;width: 100%;margin-bottom: 0;padding: 0.3em;box-sizing: border-box;text-align: center;}#sk-container-id-43 label.sk-toggleable__label-arrow:before {content: \"▸\";float: left;margin-right: 0.25em;color: #696969;}#sk-container-id-43 label.sk-toggleable__label-arrow:hover:before {color: black;}#sk-container-id-43 div.sk-estimator:hover label.sk-toggleable__label-arrow:before {color: black;}#sk-container-id-43 div.sk-toggleable__content {max-height: 0;max-width: 0;overflow: hidden;text-align: left;background-color: #f0f8ff;}#sk-container-id-43 div.sk-toggleable__content pre {margin: 0.2em;color: black;border-radius: 0.25em;background-color: #f0f8ff;}#sk-container-id-43 input.sk-toggleable__control:checked~div.sk-toggleable__content {max-height: 200px;max-width: 100%;overflow: auto;}#sk-container-id-43 input.sk-toggleable__control:checked~label.sk-toggleable__label-arrow:before {content: \"▾\";}#sk-container-id-43 div.sk-estimator input.sk-toggleable__control:checked~label.sk-toggleable__label {background-color: #d4ebff;}#sk-container-id-43 div.sk-label input.sk-toggleable__control:checked~label.sk-toggleable__label {background-color: #d4ebff;}#sk-container-id-43 input.sk-hidden--visually {border: 0;clip: rect(1px 1px 1px 1px);clip: rect(1px, 1px, 1px, 1px);height: 1px;margin: -1px;overflow: hidden;padding: 0;position: absolute;width: 1px;}#sk-container-id-43 div.sk-estimator {font-family: monospace;background-color: #f0f8ff;border: 1px dotted black;border-radius: 0.25em;box-sizing: border-box;margin-bottom: 0.5em;}#sk-container-id-43 div.sk-estimator:hover {background-color: #d4ebff;}#sk-container-id-43 div.sk-parallel-item::after {content: \"\";width: 100%;border-bottom: 1px solid gray;flex-grow: 1;}#sk-container-id-43 div.sk-label:hover label.sk-toggleable__label {background-color: #d4ebff;}#sk-container-id-43 div.sk-serial::before {content: \"\";position: absolute;border-left: 1px solid gray;box-sizing: border-box;top: 0;bottom: 0;left: 50%;z-index: 0;}#sk-container-id-43 div.sk-serial {display: flex;flex-direction: column;align-items: center;background-color: white;padding-right: 0.2em;padding-left: 0.2em;position: relative;}#sk-container-id-43 div.sk-item {position: relative;z-index: 1;}#sk-container-id-43 div.sk-parallel {display: flex;align-items: stretch;justify-content: center;background-color: white;position: relative;}#sk-container-id-43 div.sk-item::before, #sk-container-id-43 div.sk-parallel-item::before {content: \"\";position: absolute;border-left: 1px solid gray;box-sizing: border-box;top: 0;bottom: 0;left: 50%;z-index: -1;}#sk-container-id-43 div.sk-parallel-item {display: flex;flex-direction: column;z-index: 1;position: relative;background-color: white;}#sk-container-id-43 div.sk-parallel-item:first-child::after {align-self: flex-end;width: 50%;}#sk-container-id-43 div.sk-parallel-item:last-child::after {align-self: flex-start;width: 50%;}#sk-container-id-43 div.sk-parallel-item:only-child::after {width: 0;}#sk-container-id-43 div.sk-dashed-wrapped {border: 1px dashed gray;margin: 0 0.4em 0.5em 0.4em;box-sizing: border-box;padding-bottom: 0.4em;background-color: white;}#sk-container-id-43 div.sk-label label {font-family: monospace;font-weight: bold;display: inline-block;line-height: 1.2em;}#sk-container-id-43 div.sk-label-container {text-align: center;}#sk-container-id-43 div.sk-container {/* jupyter's `normalize.less` sets `[hidden] { display: none; }` but bootstrap.min.css set `[hidden] { display: none !important; }` so we also need the `!important` here to be able to override the default hidden behavior on the sphinx rendered scikit-learn.org. See: https://github.com/scikit-learn/scikit-learn/issues/21755 */display: inline-block !important;position: relative;}#sk-container-id-43 div.sk-text-repr-fallback {display: none;}</style><div id=\"sk-container-id-43\" class=\"sk-top-container\"><div class=\"sk-text-repr-fallback\"><pre>TfidfVectorizer(max_df=0.95, min_df=3, ngram_range=(1, 2))</pre><b>In a Jupyter environment, please rerun this cell to show the HTML representation or trust the notebook. <br />On GitHub, the HTML representation is unable to render, please try loading this page with nbviewer.org.</b></div><div class=\"sk-container\" hidden><div class=\"sk-item\"><div class=\"sk-estimator sk-toggleable\"><input class=\"sk-toggleable__control sk-hidden--visually\" id=\"sk-estimator-id-43\" type=\"checkbox\" checked><label for=\"sk-estimator-id-43\" class=\"sk-toggleable__label sk-toggleable__label-arrow\">TfidfVectorizer</label><div class=\"sk-toggleable__content\"><pre>TfidfVectorizer(max_df=0.95, min_df=3, ngram_range=(1, 2))</pre></div></div></div></div></div>"
      ],
      "text/plain": [
       "TfidfVectorizer(max_df=0.95, min_df=3, ngram_range=(1, 2))"
      ]
     },
     "execution_count": 597,
     "metadata": {},
     "output_type": "execute_result"
    }
   ],
   "source": [
    "from sklearn.feature_extraction.text import TfidfVectorizer\n",
    "\n",
    "tfidf_vect = TfidfVectorizer(tokenizer=None, ngram_range=(1,2), min_df=3,max_df=0.95)\n",
    "tfidf_vect.fit(X_train)"
   ]
  },
  {
   "cell_type": "code",
   "execution_count": 598,
   "metadata": {
    "colab": {
     "base_uri": "https://localhost:8080/"
    },
    "id": "U0GIZei1FQkw",
    "outputId": "314208e5-b287-4352-c15d-9bcf683af90e"
   },
   "outputs": [
    {
     "data": {
      "text/plain": [
       "((1049, 874), (292, 874))"
      ]
     },
     "execution_count": 598,
     "metadata": {},
     "output_type": "execute_result"
    }
   ],
   "source": [
    "train_feature_tfidf = tfidf_vect.transform(X_train)\n",
    "test_feature_tfidf = tfidf_vect.transform(X_test)\n",
    "\n",
    "train_feature_tfidf.shape, test_feature_tfidf.shape"
   ]
  },
  {
   "cell_type": "code",
   "execution_count": 599,
   "metadata": {
    "colab": {
     "base_uri": "https://localhost:8080/"
    },
    "id": "XKnQiSkhFiEL",
    "outputId": "ca534e63-b35f-4eb8-d55c-d80d8b468fe9"
   },
   "outputs": [
    {
     "name": "stdout",
     "output_type": "stream",
     "text": [
      "874\n"
     ]
    },
    {
     "data": {
      "text/plain": [
       "array(['email', 'email 주소', 'on', 'on 마을축제', '가능하며', '가능합니다', '가입',\n",
       "       '가입의사', '가입의사 확인', '가족관계'], dtype=object)"
      ]
     },
     "execution_count": 599,
     "metadata": {},
     "output_type": "execute_result"
    }
   ],
   "source": [
    "vocab = tfidf_vect.get_feature_names_out()\n",
    "print(len(vocab))\n",
    "vocab[:10]"
   ]
  },
  {
   "cell_type": "code",
   "execution_count": 600,
   "metadata": {
    "colab": {
     "base_uri": "https://localhost:8080/",
     "height": 182
    },
    "id": "L67bvU2uFuHn",
    "outputId": "e4713cdd-a739-4f8d-c7aa-14aac545df03"
   },
   "outputs": [
    {
     "data": {
      "text/html": [
       "<div>\n",
       "<style scoped>\n",
       "    .dataframe tbody tr th:only-of-type {\n",
       "        vertical-align: middle;\n",
       "    }\n",
       "\n",
       "    .dataframe tbody tr th {\n",
       "        vertical-align: top;\n",
       "    }\n",
       "\n",
       "    .dataframe thead th {\n",
       "        text-align: right;\n",
       "    }\n",
       "</style>\n",
       "<table border=\"1\" class=\"dataframe\">\n",
       "  <thead>\n",
       "    <tr style=\"text-align: right;\">\n",
       "      <th></th>\n",
       "      <th>email</th>\n",
       "      <th>email 주소</th>\n",
       "      <th>on</th>\n",
       "      <th>on 마을축제</th>\n",
       "      <th>가능하며</th>\n",
       "      <th>가능합니다</th>\n",
       "      <th>가입</th>\n",
       "      <th>가입의사</th>\n",
       "      <th>가입의사 확인</th>\n",
       "      <th>가족관계</th>\n",
       "      <th>...</th>\n",
       "      <th>회원의</th>\n",
       "      <th>회원자격</th>\n",
       "      <th>회원자격 유지</th>\n",
       "      <th>회원제</th>\n",
       "      <th>회원제 서비스</th>\n",
       "      <th>휴대전화</th>\n",
       "      <th>휴대전화번호</th>\n",
       "      <th>휴대전화번호 전자우편주소</th>\n",
       "      <th>휴대폰</th>\n",
       "      <th>휴대폰번호</th>\n",
       "    </tr>\n",
       "  </thead>\n",
       "  <tbody>\n",
       "    <tr>\n",
       "      <th>0</th>\n",
       "      <td>1.652788</td>\n",
       "      <td>0.997515</td>\n",
       "      <td>0.882513</td>\n",
       "      <td>0.882513</td>\n",
       "      <td>0.918818</td>\n",
       "      <td>0.951853</td>\n",
       "      <td>5.980532</td>\n",
       "      <td>2.377093</td>\n",
       "      <td>2.377093</td>\n",
       "      <td>1.173867</td>\n",
       "      <td>...</td>\n",
       "      <td>1.632405</td>\n",
       "      <td>1.549078</td>\n",
       "      <td>1.549078</td>\n",
       "      <td>2.335195</td>\n",
       "      <td>1.920283</td>\n",
       "      <td>2.216339</td>\n",
       "      <td>2.622763</td>\n",
       "      <td>0.817101</td>\n",
       "      <td>1.944333</td>\n",
       "      <td>2.31884</td>\n",
       "    </tr>\n",
       "  </tbody>\n",
       "</table>\n",
       "<p>1 rows × 874 columns</p>\n",
       "</div>"
      ],
      "text/plain": [
       "      email  email 주소        on   on 마을축제      가능하며     가능합니다        가입  \\\n",
       "0  1.652788  0.997515  0.882513  0.882513  0.918818  0.951853  5.980532   \n",
       "\n",
       "       가입의사   가입의사 확인      가족관계  ...       회원의      회원자격   회원자격 유지       회원제  \\\n",
       "0  2.377093  2.377093  1.173867  ...  1.632405  1.549078  1.549078  2.335195   \n",
       "\n",
       "    회원제 서비스      휴대전화    휴대전화번호  휴대전화번호 전자우편주소       휴대폰    휴대폰번호  \n",
       "0  1.920283  2.216339  2.622763       0.817101  1.944333  2.31884  \n",
       "\n",
       "[1 rows x 874 columns]"
      ]
     },
     "execution_count": 600,
     "metadata": {},
     "output_type": "execute_result"
    }
   ],
   "source": [
    "dist = np.sum(train_feature_tfidf, axis=0)\n",
    "\n",
    "vocab_count = pd.DataFrame(dist, columns=vocab)\n",
    "vocab_count"
   ]
  },
  {
   "cell_type": "code",
   "execution_count": 601,
   "metadata": {
    "colab": {
     "base_uri": "https://localhost:8080/",
     "height": 74
    },
    "id": "NJScmClKGSA0",
    "outputId": "7e79726d-2c91-4fa8-eacc-79091d2f8f84"
   },
   "outputs": [
    {
     "data": {
      "text/html": [
       "<style>#sk-container-id-44 {color: black;background-color: white;}#sk-container-id-44 pre{padding: 0;}#sk-container-id-44 div.sk-toggleable {background-color: white;}#sk-container-id-44 label.sk-toggleable__label {cursor: pointer;display: block;width: 100%;margin-bottom: 0;padding: 0.3em;box-sizing: border-box;text-align: center;}#sk-container-id-44 label.sk-toggleable__label-arrow:before {content: \"▸\";float: left;margin-right: 0.25em;color: #696969;}#sk-container-id-44 label.sk-toggleable__label-arrow:hover:before {color: black;}#sk-container-id-44 div.sk-estimator:hover label.sk-toggleable__label-arrow:before {color: black;}#sk-container-id-44 div.sk-toggleable__content {max-height: 0;max-width: 0;overflow: hidden;text-align: left;background-color: #f0f8ff;}#sk-container-id-44 div.sk-toggleable__content pre {margin: 0.2em;color: black;border-radius: 0.25em;background-color: #f0f8ff;}#sk-container-id-44 input.sk-toggleable__control:checked~div.sk-toggleable__content {max-height: 200px;max-width: 100%;overflow: auto;}#sk-container-id-44 input.sk-toggleable__control:checked~label.sk-toggleable__label-arrow:before {content: \"▾\";}#sk-container-id-44 div.sk-estimator input.sk-toggleable__control:checked~label.sk-toggleable__label {background-color: #d4ebff;}#sk-container-id-44 div.sk-label input.sk-toggleable__control:checked~label.sk-toggleable__label {background-color: #d4ebff;}#sk-container-id-44 input.sk-hidden--visually {border: 0;clip: rect(1px 1px 1px 1px);clip: rect(1px, 1px, 1px, 1px);height: 1px;margin: -1px;overflow: hidden;padding: 0;position: absolute;width: 1px;}#sk-container-id-44 div.sk-estimator {font-family: monospace;background-color: #f0f8ff;border: 1px dotted black;border-radius: 0.25em;box-sizing: border-box;margin-bottom: 0.5em;}#sk-container-id-44 div.sk-estimator:hover {background-color: #d4ebff;}#sk-container-id-44 div.sk-parallel-item::after {content: \"\";width: 100%;border-bottom: 1px solid gray;flex-grow: 1;}#sk-container-id-44 div.sk-label:hover label.sk-toggleable__label {background-color: #d4ebff;}#sk-container-id-44 div.sk-serial::before {content: \"\";position: absolute;border-left: 1px solid gray;box-sizing: border-box;top: 0;bottom: 0;left: 50%;z-index: 0;}#sk-container-id-44 div.sk-serial {display: flex;flex-direction: column;align-items: center;background-color: white;padding-right: 0.2em;padding-left: 0.2em;position: relative;}#sk-container-id-44 div.sk-item {position: relative;z-index: 1;}#sk-container-id-44 div.sk-parallel {display: flex;align-items: stretch;justify-content: center;background-color: white;position: relative;}#sk-container-id-44 div.sk-item::before, #sk-container-id-44 div.sk-parallel-item::before {content: \"\";position: absolute;border-left: 1px solid gray;box-sizing: border-box;top: 0;bottom: 0;left: 50%;z-index: -1;}#sk-container-id-44 div.sk-parallel-item {display: flex;flex-direction: column;z-index: 1;position: relative;background-color: white;}#sk-container-id-44 div.sk-parallel-item:first-child::after {align-self: flex-end;width: 50%;}#sk-container-id-44 div.sk-parallel-item:last-child::after {align-self: flex-start;width: 50%;}#sk-container-id-44 div.sk-parallel-item:only-child::after {width: 0;}#sk-container-id-44 div.sk-dashed-wrapped {border: 1px dashed gray;margin: 0 0.4em 0.5em 0.4em;box-sizing: border-box;padding-bottom: 0.4em;background-color: white;}#sk-container-id-44 div.sk-label label {font-family: monospace;font-weight: bold;display: inline-block;line-height: 1.2em;}#sk-container-id-44 div.sk-label-container {text-align: center;}#sk-container-id-44 div.sk-container {/* jupyter's `normalize.less` sets `[hidden] { display: none; }` but bootstrap.min.css set `[hidden] { display: none !important; }` so we also need the `!important` here to be able to override the default hidden behavior on the sphinx rendered scikit-learn.org. See: https://github.com/scikit-learn/scikit-learn/issues/21755 */display: inline-block !important;position: relative;}#sk-container-id-44 div.sk-text-repr-fallback {display: none;}</style><div id=\"sk-container-id-44\" class=\"sk-top-container\"><div class=\"sk-text-repr-fallback\"><pre>RandomForestClassifier(n_jobs=-1, random_state=42)</pre><b>In a Jupyter environment, please rerun this cell to show the HTML representation or trust the notebook. <br />On GitHub, the HTML representation is unable to render, please try loading this page with nbviewer.org.</b></div><div class=\"sk-container\" hidden><div class=\"sk-item\"><div class=\"sk-estimator sk-toggleable\"><input class=\"sk-toggleable__control sk-hidden--visually\" id=\"sk-estimator-id-44\" type=\"checkbox\" checked><label for=\"sk-estimator-id-44\" class=\"sk-toggleable__label sk-toggleable__label-arrow\">RandomForestClassifier</label><div class=\"sk-toggleable__content\"><pre>RandomForestClassifier(n_jobs=-1, random_state=42)</pre></div></div></div></div></div>"
      ],
      "text/plain": [
       "RandomForestClassifier(n_jobs=-1, random_state=42)"
      ]
     },
     "execution_count": 601,
     "metadata": {},
     "output_type": "execute_result"
    }
   ],
   "source": [
    "from sklearn.ensemble import RandomForestClassifier\n",
    "\n",
    "model = RandomForestClassifier(n_estimators=100, n_jobs=-1,random_state=42)\n",
    "model"
   ]
  },
  {
   "cell_type": "code",
   "execution_count": 602,
   "metadata": {
    "colab": {
     "base_uri": "https://localhost:8080/"
    },
    "id": "aRIHu3DqGmH9",
    "outputId": "e894e5a6-a581-4971-c43e-110346721982"
   },
   "outputs": [
    {
     "name": "stderr",
     "output_type": "stream",
     "text": [
      "[Parallel(n_jobs=-1)]: Using backend LokyBackend with 8 concurrent workers.\n",
      "[Parallel(n_jobs=-1)]: Done   3 out of   3 | elapsed:    2.5s finished\n"
     ]
    }
   ],
   "source": [
    "from sklearn.model_selection import cross_val_predict\n",
    "y_pred = cross_val_predict(model, train_feature_tfidf, y_train, cv=3, n_jobs=-1, verbose=1)"
   ]
  },
  {
   "cell_type": "code",
   "execution_count": 603,
   "metadata": {
    "colab": {
     "base_uri": "https://localhost:8080/"
    },
    "id": "hQvd6k-bG-30",
    "outputId": "9ecb1a5b-1d3f-4c2d-d2db-332e4f42c043"
   },
   "outputs": [
    {
     "data": {
      "text/plain": [
       "0.9199237368922784"
      ]
     },
     "execution_count": 603,
     "metadata": {},
     "output_type": "execute_result"
    }
   ],
   "source": [
    "valid_accuracy = (y_pred == y_train).mean()\n",
    "valid_accuracy"
   ]
  },
  {
   "cell_type": "code",
   "execution_count": 604,
   "metadata": {
    "id": "8rUOhUSVHLZd"
   },
   "outputs": [],
   "source": [
    "df_accuracy = pd.DataFrame({\"pred\":y_pred, \"train\": y_train})\n",
    "df_accuracy[\"accurancy\"] = (y_pred == y_train)"
   ]
  },
  {
   "cell_type": "code",
   "execution_count": 605,
   "metadata": {
    "colab": {
     "base_uri": "https://localhost:8080/",
     "height": 111
    },
    "id": "oN5NEoQPHfXC",
    "outputId": "501f66ae-4666-4544-dd89-3abcc1f6e100"
   },
   "outputs": [
    {
     "name": "stdout",
     "output_type": "stream",
     "text": [
      "CPU times: total: 1.5 s\n",
      "Wall time: 424 ms\n"
     ]
    },
    {
     "data": {
      "text/html": [
       "<style>#sk-container-id-45 {color: black;background-color: white;}#sk-container-id-45 pre{padding: 0;}#sk-container-id-45 div.sk-toggleable {background-color: white;}#sk-container-id-45 label.sk-toggleable__label {cursor: pointer;display: block;width: 100%;margin-bottom: 0;padding: 0.3em;box-sizing: border-box;text-align: center;}#sk-container-id-45 label.sk-toggleable__label-arrow:before {content: \"▸\";float: left;margin-right: 0.25em;color: #696969;}#sk-container-id-45 label.sk-toggleable__label-arrow:hover:before {color: black;}#sk-container-id-45 div.sk-estimator:hover label.sk-toggleable__label-arrow:before {color: black;}#sk-container-id-45 div.sk-toggleable__content {max-height: 0;max-width: 0;overflow: hidden;text-align: left;background-color: #f0f8ff;}#sk-container-id-45 div.sk-toggleable__content pre {margin: 0.2em;color: black;border-radius: 0.25em;background-color: #f0f8ff;}#sk-container-id-45 input.sk-toggleable__control:checked~div.sk-toggleable__content {max-height: 200px;max-width: 100%;overflow: auto;}#sk-container-id-45 input.sk-toggleable__control:checked~label.sk-toggleable__label-arrow:before {content: \"▾\";}#sk-container-id-45 div.sk-estimator input.sk-toggleable__control:checked~label.sk-toggleable__label {background-color: #d4ebff;}#sk-container-id-45 div.sk-label input.sk-toggleable__control:checked~label.sk-toggleable__label {background-color: #d4ebff;}#sk-container-id-45 input.sk-hidden--visually {border: 0;clip: rect(1px 1px 1px 1px);clip: rect(1px, 1px, 1px, 1px);height: 1px;margin: -1px;overflow: hidden;padding: 0;position: absolute;width: 1px;}#sk-container-id-45 div.sk-estimator {font-family: monospace;background-color: #f0f8ff;border: 1px dotted black;border-radius: 0.25em;box-sizing: border-box;margin-bottom: 0.5em;}#sk-container-id-45 div.sk-estimator:hover {background-color: #d4ebff;}#sk-container-id-45 div.sk-parallel-item::after {content: \"\";width: 100%;border-bottom: 1px solid gray;flex-grow: 1;}#sk-container-id-45 div.sk-label:hover label.sk-toggleable__label {background-color: #d4ebff;}#sk-container-id-45 div.sk-serial::before {content: \"\";position: absolute;border-left: 1px solid gray;box-sizing: border-box;top: 0;bottom: 0;left: 50%;z-index: 0;}#sk-container-id-45 div.sk-serial {display: flex;flex-direction: column;align-items: center;background-color: white;padding-right: 0.2em;padding-left: 0.2em;position: relative;}#sk-container-id-45 div.sk-item {position: relative;z-index: 1;}#sk-container-id-45 div.sk-parallel {display: flex;align-items: stretch;justify-content: center;background-color: white;position: relative;}#sk-container-id-45 div.sk-item::before, #sk-container-id-45 div.sk-parallel-item::before {content: \"\";position: absolute;border-left: 1px solid gray;box-sizing: border-box;top: 0;bottom: 0;left: 50%;z-index: -1;}#sk-container-id-45 div.sk-parallel-item {display: flex;flex-direction: column;z-index: 1;position: relative;background-color: white;}#sk-container-id-45 div.sk-parallel-item:first-child::after {align-self: flex-end;width: 50%;}#sk-container-id-45 div.sk-parallel-item:last-child::after {align-self: flex-start;width: 50%;}#sk-container-id-45 div.sk-parallel-item:only-child::after {width: 0;}#sk-container-id-45 div.sk-dashed-wrapped {border: 1px dashed gray;margin: 0 0.4em 0.5em 0.4em;box-sizing: border-box;padding-bottom: 0.4em;background-color: white;}#sk-container-id-45 div.sk-label label {font-family: monospace;font-weight: bold;display: inline-block;line-height: 1.2em;}#sk-container-id-45 div.sk-label-container {text-align: center;}#sk-container-id-45 div.sk-container {/* jupyter's `normalize.less` sets `[hidden] { display: none; }` but bootstrap.min.css set `[hidden] { display: none !important; }` so we also need the `!important` here to be able to override the default hidden behavior on the sphinx rendered scikit-learn.org. See: https://github.com/scikit-learn/scikit-learn/issues/21755 */display: inline-block !important;position: relative;}#sk-container-id-45 div.sk-text-repr-fallback {display: none;}</style><div id=\"sk-container-id-45\" class=\"sk-top-container\"><div class=\"sk-text-repr-fallback\"><pre>RandomForestClassifier(n_jobs=-1, random_state=42)</pre><b>In a Jupyter environment, please rerun this cell to show the HTML representation or trust the notebook. <br />On GitHub, the HTML representation is unable to render, please try loading this page with nbviewer.org.</b></div><div class=\"sk-container\" hidden><div class=\"sk-item\"><div class=\"sk-estimator sk-toggleable\"><input class=\"sk-toggleable__control sk-hidden--visually\" id=\"sk-estimator-id-45\" type=\"checkbox\" checked><label for=\"sk-estimator-id-45\" class=\"sk-toggleable__label sk-toggleable__label-arrow\">RandomForestClassifier</label><div class=\"sk-toggleable__content\"><pre>RandomForestClassifier(n_jobs=-1, random_state=42)</pre></div></div></div></div></div>"
      ],
      "text/plain": [
       "RandomForestClassifier(n_jobs=-1, random_state=42)"
      ]
     },
     "execution_count": 605,
     "metadata": {},
     "output_type": "execute_result"
    }
   ],
   "source": [
    "%time model.fit(train_feature_tfidf, y_train)"
   ]
  },
  {
   "cell_type": "code",
   "execution_count": 606,
   "metadata": {},
   "outputs": [
    {
     "data": {
      "text/plain": [
       "[3.0, -1, -1, 1.0, 1.0]"
      ]
     },
     "execution_count": 606,
     "metadata": {},
     "output_type": "execute_result"
    }
   ],
   "source": [
    "max_proba = np.max(proba, axis=1)  # 각 샘플의 최대 확률값을 담은 배열\n",
    "y_predit = [model.classes_[np.argmax(p)] if max_proba[i] > 0.8 else -1 for i, p in enumerate(proba)]\n",
    "y_predit[:5]"
   ]
  },
  {
   "cell_type": "code",
   "execution_count": 607,
   "metadata": {},
   "outputs": [
    {
     "name": "stdout",
     "output_type": "stream",
     "text": [
      "Sample 0: Class 2, Probability 0.9944444444444445\n",
      "Sample 1: Class -1, Probability 0.43\n",
      "Sample 2: Class -1, Probability 0.7775166439042542\n",
      "Sample 3: Class 0, Probability 0.97\n",
      "Sample 4: Class 0, Probability 0.97\n",
      "Sample 5: Class 0, Probability 0.9716015775837344\n",
      "Sample 6: Class 2, Probability 1.0\n",
      "Sample 7: Class 0, Probability 0.99\n",
      "Sample 8: Class -1, Probability 0.67\n",
      "Sample 9: Class 1, Probability 0.89\n",
      "Sample 10: Class 0, Probability 1.0\n",
      "Sample 11: Class 2, Probability 1.0\n",
      "Sample 12: Class 3, Probability 0.9\n",
      "Sample 13: Class 0, Probability 0.8337381195769901\n",
      "Sample 14: Class 0, Probability 0.88\n",
      "Sample 15: Class -1, Probability 0.5804202808580768\n",
      "Sample 16: Class -1, Probability 0.685\n",
      "Sample 17: Class 0, Probability 0.8649961958075888\n",
      "Sample 18: Class 0, Probability 0.9915293342122611\n",
      "Sample 19: Class 2, Probability 1.0\n",
      "Sample 20: Class -1, Probability 0.6220475113122172\n",
      "Sample 21: Class 0, Probability 0.9856756756756756\n",
      "Sample 22: Class 3, Probability 0.84\n",
      "Sample 23: Class 2, Probability 0.9824104795913307\n",
      "Sample 24: Class 0, Probability 0.9956756756756756\n",
      "Sample 25: Class 2, Probability 1.0\n",
      "Sample 26: Class 3, Probability 0.97\n",
      "Sample 27: Class 0, Probability 1.0\n",
      "Sample 28: Class 0, Probability 0.9633333333333334\n",
      "Sample 29: Class 1, Probability 0.96\n",
      "Sample 30: Class 3, Probability 0.9\n",
      "Sample 31: Class 0, Probability 0.8936122450615565\n",
      "Sample 32: Class 2, Probability 1.0\n",
      "Sample 33: Class 0, Probability 0.9913846153846154\n",
      "Sample 34: Class -1, Probability 0.7760640299706693\n",
      "Sample 35: Class 2, Probability 0.8347727272727273\n",
      "Sample 36: Class -1, Probability 0.44\n",
      "Sample 37: Class -1, Probability 0.6422980209671936\n",
      "Sample 38: Class 3, Probability 0.96\n",
      "Sample 39: Class -1, Probability 0.6\n",
      "Sample 40: Class 1, Probability 0.99\n",
      "Sample 41: Class 2, Probability 1.0\n",
      "Sample 42: Class 3, Probability 1.0\n",
      "Sample 43: Class 2, Probability 0.99\n",
      "Sample 44: Class -1, Probability 0.7739487835366287\n",
      "Sample 45: Class 2, Probability 0.87\n",
      "Sample 46: Class 0, Probability 0.86\n",
      "Sample 47: Class -1, Probability 0.5471822125199758\n",
      "Sample 48: Class -1, Probability 0.5804202808580768\n",
      "Sample 49: Class -1, Probability 0.5501737840545989\n",
      "Sample 50: Class -1, Probability 0.6388929899271399\n",
      "Sample 51: Class 0, Probability 0.9958536585365855\n",
      "Sample 52: Class 3, Probability 0.86\n",
      "Sample 53: Class -1, Probability 0.5702751858835211\n",
      "Sample 54: Class 0, Probability 0.8649961958075888\n",
      "Sample 55: Class 0, Probability 0.9954545454545455\n",
      "Sample 56: Class -1, Probability 0.5375672985896929\n",
      "Sample 57: Class -1, Probability 0.67\n",
      "Sample 58: Class 0, Probability 0.9854545454545455\n",
      "Sample 59: Class -1, Probability 0.5649953251599953\n",
      "Sample 60: Class 1, Probability 0.94\n",
      "Sample 61: Class -1, Probability 0.5804202808580768\n",
      "Sample 62: Class 0, Probability 1.0\n",
      "Sample 63: Class -1, Probability 0.52\n",
      "Sample 64: Class 0, Probability 0.91\n",
      "Sample 65: Class 2, Probability 0.9516902526443748\n",
      "Sample 66: Class -1, Probability 0.5804202808580768\n",
      "Sample 67: Class 1, Probability 1.0\n",
      "Sample 68: Class 0, Probability 0.86\n",
      "Sample 69: Class 0, Probability 0.98\n",
      "Sample 70: Class 0, Probability 1.0\n",
      "Sample 71: Class 1, Probability 0.97\n",
      "Sample 72: Class 1, Probability 0.96\n",
      "Sample 73: Class 0, Probability 0.9868655367231639\n",
      "Sample 74: Class 1, Probability 0.87\n",
      "Sample 75: Class 3, Probability 0.95\n",
      "Sample 76: Class 0, Probability 0.9305398611246983\n",
      "Sample 77: Class 0, Probability 0.956\n",
      "Sample 78: Class 0, Probability 0.8265265818433275\n",
      "Sample 79: Class 2, Probability 0.8247727272727273\n",
      "Sample 80: Class 0, Probability 0.9740672965575324\n",
      "Sample 81: Class 0, Probability 0.96\n",
      "Sample 82: Class 2, Probability 1.0\n",
      "Sample 83: Class 0, Probability 1.0\n",
      "Sample 84: Class 2, Probability 1.0\n",
      "Sample 85: Class -1, Probability 0.5804202808580768\n",
      "Sample 86: Class 1, Probability 0.97\n",
      "Sample 87: Class 1, Probability 0.94\n",
      "Sample 88: Class 0, Probability 0.9657142857142857\n",
      "Sample 89: Class -1, Probability 0.5804202808580768\n",
      "Sample 90: Class 3, Probability 1.0\n",
      "Sample 91: Class 0, Probability 0.85\n",
      "Sample 92: Class -1, Probability 0.5804202808580768\n",
      "Sample 93: Class 0, Probability 0.9955813953488373\n",
      "Sample 94: Class 0, Probability 0.889\n",
      "Sample 95: Class 0, Probability 1.0\n",
      "Sample 96: Class 3, Probability 0.95\n",
      "Sample 97: Class 0, Probability 1.0\n",
      "Sample 98: Class 0, Probability 0.9866666666666666\n",
      "Sample 99: Class 0, Probability 1.0\n",
      "Sample 100: Class -1, Probability 0.7477078391114346\n",
      "Sample 101: Class 0, Probability 0.98\n",
      "Sample 102: Class 0, Probability 0.931399577167019\n",
      "Sample 103: Class 3, Probability 1.0\n",
      "Sample 104: Class 0, Probability 0.9206638087728425\n",
      "Sample 105: Class -1, Probability 0.7791118941997519\n",
      "Sample 106: Class -1, Probability 0.6709196507859528\n",
      "Sample 107: Class 2, Probability 1.0\n",
      "Sample 108: Class 3, Probability 1.0\n",
      "Sample 109: Class -1, Probability 0.7274045383586605\n",
      "Sample 110: Class 1, Probability 0.99\n",
      "Sample 111: Class 3, Probability 1.0\n",
      "Sample 112: Class 0, Probability 1.0\n",
      "Sample 113: Class 0, Probability 0.9\n",
      "Sample 114: Class 0, Probability 0.9955813953488373\n",
      "Sample 115: Class 0, Probability 1.0\n",
      "Sample 116: Class 2, Probability 1.0\n",
      "Sample 117: Class -1, Probability 0.7480877046294667\n",
      "Sample 118: Class 0, Probability 0.8505846283710031\n",
      "Sample 119: Class -1, Probability 0.6101785714285713\n",
      "Sample 120: Class 3, Probability 1.0\n",
      "Sample 121: Class 0, Probability 0.9166761341156832\n",
      "Sample 122: Class 0, Probability 0.93\n",
      "Sample 123: Class -1, Probability 0.7225137594916924\n",
      "Sample 124: Class 1, Probability 0.96\n",
      "Sample 125: Class 0, Probability 1.0\n",
      "Sample 126: Class -1, Probability 0.607387502595887\n",
      "Sample 127: Class 2, Probability 0.99\n",
      "Sample 128: Class 2, Probability 1.0\n",
      "Sample 129: Class 0, Probability 1.0\n",
      "Sample 130: Class -1, Probability 0.5804202808580768\n",
      "Sample 131: Class -1, Probability 0.6032323378194364\n",
      "Sample 132: Class 3, Probability 1.0\n",
      "Sample 133: Class 2, Probability 0.9933333333333334\n",
      "Sample 134: Class 1, Probability 0.98\n",
      "Sample 135: Class 0, Probability 0.86\n",
      "Sample 136: Class -1, Probability 0.5804202808580768\n",
      "Sample 137: Class 1, Probability 0.99\n",
      "Sample 138: Class 0, Probability 0.8833333333333334\n",
      "Sample 139: Class 1, Probability 0.98\n",
      "Sample 140: Class 2, Probability 1.0\n",
      "Sample 141: Class 0, Probability 0.89\n",
      "Sample 142: Class 0, Probability 0.97\n",
      "Sample 143: Class -1, Probability 0.5804202808580768\n",
      "Sample 144: Class 2, Probability 0.9801605953779867\n",
      "Sample 145: Class 0, Probability 1.0\n",
      "Sample 146: Class 0, Probability 1.0\n",
      "Sample 147: Class 3, Probability 0.89\n",
      "Sample 148: Class -1, Probability 0.72\n",
      "Sample 149: Class 0, Probability 1.0\n",
      "Sample 150: Class 2, Probability 0.84\n",
      "Sample 151: Class 2, Probability 1.0\n",
      "Sample 152: Class -1, Probability 0.7313553215753004\n",
      "Sample 153: Class 2, Probability 1.0\n",
      "Sample 154: Class 0, Probability 0.92\n",
      "Sample 155: Class 0, Probability 0.99\n",
      "Sample 156: Class 2, Probability 0.8\n",
      "Sample 157: Class -1, Probability 0.6379012548611493\n",
      "Sample 158: Class 0, Probability 1.0\n",
      "Sample 159: Class 0, Probability 0.8719097581287377\n",
      "Sample 160: Class 3, Probability 0.99\n",
      "Sample 161: Class 0, Probability 0.9321603427172583\n",
      "Sample 162: Class 0, Probability 1.0\n",
      "Sample 163: Class -1, Probability 0.5804202808580768\n",
      "Sample 164: Class 0, Probability 0.97\n",
      "Sample 165: Class 1, Probability 0.96\n",
      "Sample 166: Class 1, Probability 0.88\n",
      "Sample 167: Class 3, Probability 0.96\n",
      "Sample 168: Class -1, Probability 0.7273854882726443\n",
      "Sample 169: Class 3, Probability 0.85\n",
      "Sample 170: Class 2, Probability 1.0\n",
      "Sample 171: Class 3, Probability 1.0\n",
      "Sample 172: Class -1, Probability 0.7536994447173305\n",
      "Sample 173: Class 0, Probability 0.8546895402427874\n",
      "Sample 174: Class 2, Probability 0.9375706563686492\n",
      "Sample 175: Class -1, Probability 0.39\n",
      "Sample 176: Class -1, Probability 0.5804202808580768\n",
      "Sample 177: Class 0, Probability 0.9263731944580316\n",
      "Sample 178: Class -1, Probability 0.73\n",
      "Sample 179: Class -1, Probability 0.6347989455781057\n",
      "Sample 180: Class 0, Probability 0.9449144940027294\n",
      "Sample 181: Class 0, Probability 0.8663811645439397\n",
      "Sample 182: Class 0, Probability 0.94\n",
      "Sample 183: Class 0, Probability 1.0\n",
      "Sample 184: Class 0, Probability 0.9583333333333335\n",
      "Sample 185: Class -1, Probability 0.6811583184257602\n",
      "Sample 186: Class 3, Probability 0.84\n",
      "Sample 187: Class 1, Probability 0.93\n",
      "Sample 188: Class 1, Probability 1.0\n",
      "Sample 189: Class 2, Probability 1.0\n",
      "Sample 190: Class 3, Probability 0.96\n",
      "Sample 191: Class 0, Probability 0.805458188617104\n",
      "Sample 192: Class 2, Probability 0.9682180851063831\n",
      "Sample 193: Class 0, Probability 0.8022091016161272\n",
      "Sample 194: Class 2, Probability 0.99\n",
      "Sample 195: Class -1, Probability 0.5804202808580768\n",
      "Sample 196: Class -1, Probability 0.5804202808580768\n",
      "Sample 197: Class -1, Probability 0.7448330263028146\n",
      "Sample 198: Class 0, Probability 1.0\n",
      "Sample 199: Class 1, Probability 1.0\n",
      "Sample 200: Class 0, Probability 0.9733333333333334\n",
      "Sample 201: Class -1, Probability 0.5804202808580768\n",
      "Sample 202: Class 0, Probability 0.96\n",
      "Sample 203: Class 2, Probability 0.9832047830218563\n",
      "Sample 204: Class 0, Probability 0.9869838796668066\n",
      "Sample 205: Class 2, Probability 0.923239875133492\n",
      "Sample 206: Class 0, Probability 0.8621527715540614\n",
      "Sample 207: Class 0, Probability 0.8771209062883483\n",
      "Sample 208: Class -1, Probability 0.56\n",
      "Sample 209: Class -1, Probability 0.79\n",
      "Sample 210: Class 1, Probability 0.89\n",
      "Sample 211: Class -1, Probability 0.6590339892665474\n",
      "Sample 212: Class -1, Probability 0.6251193047295879\n",
      "Sample 213: Class 2, Probability 1.0\n",
      "Sample 214: Class -1, Probability 0.6117474307419144\n",
      "Sample 215: Class 0, Probability 1.0\n",
      "Sample 216: Class -1, Probability 0.74\n",
      "Sample 217: Class 0, Probability 0.92\n",
      "Sample 218: Class 3, Probability 0.88\n",
      "Sample 219: Class 1, Probability 0.95\n",
      "Sample 220: Class 0, Probability 0.98575\n",
      "Sample 221: Class 0, Probability 0.99\n",
      "Sample 222: Class -1, Probability 0.53\n",
      "Sample 223: Class -1, Probability 0.6253905029333733\n",
      "Sample 224: Class 2, Probability 0.9671171171171171\n",
      "Sample 225: Class 0, Probability 0.98\n",
      "Sample 226: Class 0, Probability 1.0\n",
      "Sample 227: Class 0, Probability 0.99\n",
      "Sample 228: Class 0, Probability 0.9738206383167417\n",
      "Sample 229: Class 1, Probability 0.98\n",
      "Sample 230: Class 2, Probability 0.9309864864864865\n",
      "Sample 231: Class 3, Probability 0.97\n",
      "Sample 232: Class 0, Probability 0.9788075447570332\n",
      "Sample 233: Class 1, Probability 1.0\n",
      "Sample 234: Class -1, Probability 0.7063381735772458\n",
      "Sample 235: Class 3, Probability 0.89\n",
      "Sample 236: Class 0, Probability 0.98\n",
      "Sample 237: Class 1, Probability 1.0\n",
      "Sample 238: Class -1, Probability 0.57\n",
      "Sample 239: Class 2, Probability 0.92\n",
      "Sample 240: Class 3, Probability 0.98\n",
      "Sample 241: Class 0, Probability 0.9823809523809524\n",
      "Sample 242: Class 1, Probability 0.91\n",
      "Sample 243: Class 2, Probability 0.8\n",
      "Sample 244: Class 0, Probability 0.8824846938775511\n",
      "Sample 245: Class 0, Probability 0.98\n",
      "Sample 246: Class 2, Probability 0.9584245352462613\n",
      "Sample 247: Class -1, Probability 0.605128410117461\n",
      "Sample 248: Class 0, Probability 0.9555690049299073\n",
      "Sample 249: Class -1, Probability 0.45\n",
      "Sample 250: Class 0, Probability 0.99\n",
      "Sample 251: Class -1, Probability 0.7705126092567489\n",
      "Sample 252: Class 3, Probability 0.98\n",
      "Sample 253: Class 2, Probability 0.9584680851063829\n",
      "Sample 254: Class 0, Probability 0.92\n",
      "Sample 255: Class 0, Probability 0.9253846153846155\n",
      "Sample 256: Class -1, Probability 0.77\n",
      "Sample 257: Class 0, Probability 1.0\n",
      "Sample 258: Class 0, Probability 0.95\n",
      "Sample 259: Class -1, Probability 0.6550472481262919\n",
      "Sample 260: Class 2, Probability 0.93\n",
      "Sample 261: Class -1, Probability 0.54\n",
      "Sample 262: Class -1, Probability 0.5804202808580768\n",
      "Sample 263: Class -1, Probability 0.5804202808580768\n",
      "Sample 264: Class -1, Probability 0.38\n",
      "Sample 265: Class -1, Probability 0.5804202808580768\n",
      "Sample 266: Class 0, Probability 0.8805272399283817\n",
      "Sample 267: Class -1, Probability 0.5804202808580768\n",
      "Sample 268: Class -1, Probability 0.5804202808580768\n",
      "Sample 269: Class -1, Probability 0.5804202808580768\n",
      "Sample 270: Class 0, Probability 0.9766666666666666\n",
      "Sample 271: Class -1, Probability 0.5804202808580768\n",
      "Sample 272: Class -1, Probability 0.5804202808580768\n",
      "Sample 273: Class -1, Probability 0.5804202808580768\n",
      "Sample 274: Class -1, Probability 0.5804202808580768\n",
      "Sample 275: Class -1, Probability 0.5804202808580768\n",
      "Sample 276: Class 3, Probability 0.98\n",
      "Sample 277: Class -1, Probability 0.5804202808580768\n",
      "Sample 278: Class 2, Probability 0.95\n",
      "Sample 279: Class 3, Probability 0.97\n",
      "Sample 280: Class 0, Probability 0.91\n",
      "Sample 281: Class 2, Probability 0.99\n",
      "Sample 282: Class 2, Probability 1.0\n",
      "Sample 283: Class -1, Probability 0.5804202808580768\n",
      "Sample 284: Class -1, Probability 0.5804202808580768\n",
      "Sample 285: Class -1, Probability 0.38\n",
      "Sample 286: Class -1, Probability 0.5804202808580768\n",
      "Sample 287: Class -1, Probability 0.5804202808580768\n",
      "Sample 288: Class 0, Probability 0.9253846153846155\n",
      "Sample 289: Class -1, Probability 0.45437963797080777\n",
      "Sample 290: Class -1, Probability 0.5804202808580768\n",
      "Sample 291: Class -1, Probability 0.5804202808580768\n"
     ]
    }
   ],
   "source": [
    "# 모델 학습 후\n",
    "model.fit(train_feature_tfidf, y_train)\n",
    "\n",
    "# 예측 확률 구하기\n",
    "proba = model.predict_proba(test_feature_tfidf)\n",
    "\n",
    "# 확률이 가장 높은 클래스와 그 확률 출력\n",
    "for i, p in enumerate(proba):\n",
    "    max_proba = np.max(p)\n",
    "    pred_class = np.argmax(p)\n",
    "    if max_proba < 0.8:  # 임계값 설정\n",
    "        pred_class = -1  # 임계값 이하일 경우 -1로 설정\n",
    "    print(f\"Sample {i}: Class {pred_class}, Probability {max_proba}\")\n",
    "\n"
   ]
  },
  {
   "cell_type": "code",
   "execution_count": 608,
   "metadata": {},
   "outputs": [
    {
     "data": {
      "text/plain": [
       "['model.pkl']"
      ]
     },
     "execution_count": 608,
     "metadata": {},
     "output_type": "execute_result"
    }
   ],
   "source": [
    "import joblib\n",
    "# TfidfVectorizer 객체 저장\n",
    "joblib.dump(tfidf_vect, 'tfidf_vect.pkl')\n",
    "\n",
    "# RandomForestClassifier 모델 저장\n",
    "joblib.dump(model, 'model.pkl')"
   ]
  },
  {
   "cell_type": "code",
   "execution_count": 609,
   "metadata": {
    "colab": {
     "base_uri": "https://localhost:8080/",
     "height": 206
    },
    "id": "a9csL2N2ICs5",
    "outputId": "d260c0a2-8da4-4273-cd0f-e078f16a366e"
   },
   "outputs": [
    {
     "data": {
      "text/html": [
       "<div>\n",
       "<style scoped>\n",
       "    .dataframe tbody tr th:only-of-type {\n",
       "        vertical-align: middle;\n",
       "    }\n",
       "\n",
       "    .dataframe tbody tr th {\n",
       "        vertical-align: top;\n",
       "    }\n",
       "\n",
       "    .dataframe thead th {\n",
       "        text-align: right;\n",
       "    }\n",
       "</style>\n",
       "<table border=\"1\" class=\"dataframe\">\n",
       "  <thead>\n",
       "    <tr style=\"text-align: right;\">\n",
       "      <th></th>\n",
       "      <th>index</th>\n",
       "      <th>topic_idx</th>\n",
       "    </tr>\n",
       "  </thead>\n",
       "  <tbody>\n",
       "    <tr>\n",
       "      <th>0</th>\n",
       "      <td>1050</td>\n",
       "      <td>0</td>\n",
       "    </tr>\n",
       "    <tr>\n",
       "      <th>1</th>\n",
       "      <td>1051</td>\n",
       "      <td>0</td>\n",
       "    </tr>\n",
       "    <tr>\n",
       "      <th>2</th>\n",
       "      <td>1052</td>\n",
       "      <td>0</td>\n",
       "    </tr>\n",
       "    <tr>\n",
       "      <th>3</th>\n",
       "      <td>1053</td>\n",
       "      <td>0</td>\n",
       "    </tr>\n",
       "    <tr>\n",
       "      <th>4</th>\n",
       "      <td>1054</td>\n",
       "      <td>0</td>\n",
       "    </tr>\n",
       "  </tbody>\n",
       "</table>\n",
       "</div>"
      ],
      "text/plain": [
       "   index  topic_idx\n",
       "0   1050          0\n",
       "1   1051          0\n",
       "2   1052          0\n",
       "3   1053          0\n",
       "4   1054          0"
      ]
     },
     "execution_count": 609,
     "metadata": {},
     "output_type": "execute_result"
    }
   ],
   "source": [
    "submit = pd.read_csv('C:/Users/selly/OneDrive/바탕 화면/전달해요/sub.csv')\n",
    "submit.head()"
   ]
  },
  {
   "cell_type": "code",
   "execution_count": 610,
   "metadata": {
    "colab": {
     "base_uri": "https://localhost:8080/"
    },
    "id": "ArWExQ3AeqpP",
    "outputId": "708de268-455d-4d93-b9f0-1afc1de675b9"
   },
   "outputs": [
    {
     "data": {
      "text/plain": [
       "(292, 2)"
      ]
     },
     "execution_count": 610,
     "metadata": {},
     "output_type": "execute_result"
    }
   ],
   "source": [
    "submit.shape"
   ]
  },
  {
   "cell_type": "code",
   "execution_count": 611,
   "metadata": {
    "id": "zWv6GN0TIgek"
   },
   "outputs": [],
   "source": [
    "submit[\"topic_idx\"] = y_predit"
   ]
  },
  {
   "cell_type": "code",
   "execution_count": 612,
   "metadata": {
    "id": "3SAuIMzyIsLw"
   },
   "outputs": [],
   "source": [
    "submit.to_csv('C:/Users/selly/OneDrive/바탕 화면/전달해요/sub1.csv', index=False)"
   ]
  },
  {
   "cell_type": "code",
   "execution_count": null,
   "metadata": {},
   "outputs": [],
   "source": []
  }
 ],
 "metadata": {
  "colab": {
   "provenance": []
  },
  "kernelspec": {
   "display_name": "Python 3 (ipykernel)",
   "language": "python",
   "name": "python3"
  },
  "language_info": {
   "codemirror_mode": {
    "name": "ipython",
    "version": 3
   },
   "file_extension": ".py",
   "mimetype": "text/x-python",
   "name": "python",
   "nbconvert_exporter": "python",
   "pygments_lexer": "ipython3",
   "version": "3.10.9"
  }
 },
 "nbformat": 4,
 "nbformat_minor": 1
}
